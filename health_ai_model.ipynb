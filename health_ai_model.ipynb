{
  "nbformat": 4,
  "nbformat_minor": 0,
  "metadata": {
    "colab": {
      "provenance": []
    },
    "kernelspec": {
      "name": "python3",
      "display_name": "Python 3"
    },
    "language_info": {
      "name": "python"
    }
  },
  "cells": [
    {
      "cell_type": "code",
      "source": [
        "pip install tensorflow numpy pandas scikit-learn\n"
      ],
      "metadata": {
        "colab": {
          "base_uri": "https://localhost:8080/"
        },
        "id": "biojDNLzegRI",
        "outputId": "2ea52333-745c-4281-a811-be221ed77e4f"
      },
      "execution_count": null,
      "outputs": [
        {
          "output_type": "stream",
          "name": "stdout",
          "text": [
            "Requirement already satisfied: tensorflow in /usr/local/lib/python3.11/dist-packages (2.18.0)\n",
            "Requirement already satisfied: numpy in /usr/local/lib/python3.11/dist-packages (1.26.4)\n",
            "Requirement already satisfied: pandas in /usr/local/lib/python3.11/dist-packages (2.2.2)\n",
            "Requirement already satisfied: scikit-learn in /usr/local/lib/python3.11/dist-packages (1.6.1)\n",
            "Requirement already satisfied: absl-py>=1.0.0 in /usr/local/lib/python3.11/dist-packages (from tensorflow) (1.4.0)\n",
            "Requirement already satisfied: astunparse>=1.6.0 in /usr/local/lib/python3.11/dist-packages (from tensorflow) (1.6.3)\n",
            "Requirement already satisfied: flatbuffers>=24.3.25 in /usr/local/lib/python3.11/dist-packages (from tensorflow) (25.2.10)\n",
            "Requirement already satisfied: gast!=0.5.0,!=0.5.1,!=0.5.2,>=0.2.1 in /usr/local/lib/python3.11/dist-packages (from tensorflow) (0.6.0)\n",
            "Requirement already satisfied: google-pasta>=0.1.1 in /usr/local/lib/python3.11/dist-packages (from tensorflow) (0.2.0)\n",
            "Requirement already satisfied: libclang>=13.0.0 in /usr/local/lib/python3.11/dist-packages (from tensorflow) (18.1.1)\n",
            "Requirement already satisfied: opt-einsum>=2.3.2 in /usr/local/lib/python3.11/dist-packages (from tensorflow) (3.4.0)\n",
            "Requirement already satisfied: packaging in /usr/local/lib/python3.11/dist-packages (from tensorflow) (24.2)\n",
            "Requirement already satisfied: protobuf!=4.21.0,!=4.21.1,!=4.21.2,!=4.21.3,!=4.21.4,!=4.21.5,<6.0.0dev,>=3.20.3 in /usr/local/lib/python3.11/dist-packages (from tensorflow) (4.25.6)\n",
            "Requirement already satisfied: requests<3,>=2.21.0 in /usr/local/lib/python3.11/dist-packages (from tensorflow) (2.32.3)\n",
            "Requirement already satisfied: setuptools in /usr/local/lib/python3.11/dist-packages (from tensorflow) (75.1.0)\n",
            "Requirement already satisfied: six>=1.12.0 in /usr/local/lib/python3.11/dist-packages (from tensorflow) (1.17.0)\n",
            "Requirement already satisfied: termcolor>=1.1.0 in /usr/local/lib/python3.11/dist-packages (from tensorflow) (2.5.0)\n",
            "Requirement already satisfied: typing-extensions>=3.6.6 in /usr/local/lib/python3.11/dist-packages (from tensorflow) (4.12.2)\n",
            "Requirement already satisfied: wrapt>=1.11.0 in /usr/local/lib/python3.11/dist-packages (from tensorflow) (1.17.2)\n",
            "Requirement already satisfied: grpcio<2.0,>=1.24.3 in /usr/local/lib/python3.11/dist-packages (from tensorflow) (1.70.0)\n",
            "Requirement already satisfied: tensorboard<2.19,>=2.18 in /usr/local/lib/python3.11/dist-packages (from tensorflow) (2.18.0)\n",
            "Requirement already satisfied: keras>=3.5.0 in /usr/local/lib/python3.11/dist-packages (from tensorflow) (3.8.0)\n",
            "Requirement already satisfied: h5py>=3.11.0 in /usr/local/lib/python3.11/dist-packages (from tensorflow) (3.12.1)\n",
            "Requirement already satisfied: ml-dtypes<0.5.0,>=0.4.0 in /usr/local/lib/python3.11/dist-packages (from tensorflow) (0.4.1)\n",
            "Requirement already satisfied: tensorflow-io-gcs-filesystem>=0.23.1 in /usr/local/lib/python3.11/dist-packages (from tensorflow) (0.37.1)\n",
            "Requirement already satisfied: python-dateutil>=2.8.2 in /usr/local/lib/python3.11/dist-packages (from pandas) (2.8.2)\n",
            "Requirement already satisfied: pytz>=2020.1 in /usr/local/lib/python3.11/dist-packages (from pandas) (2025.1)\n",
            "Requirement already satisfied: tzdata>=2022.7 in /usr/local/lib/python3.11/dist-packages (from pandas) (2025.1)\n",
            "Requirement already satisfied: scipy>=1.6.0 in /usr/local/lib/python3.11/dist-packages (from scikit-learn) (1.13.1)\n",
            "Requirement already satisfied: joblib>=1.2.0 in /usr/local/lib/python3.11/dist-packages (from scikit-learn) (1.4.2)\n",
            "Requirement already satisfied: threadpoolctl>=3.1.0 in /usr/local/lib/python3.11/dist-packages (from scikit-learn) (3.5.0)\n",
            "Requirement already satisfied: wheel<1.0,>=0.23.0 in /usr/local/lib/python3.11/dist-packages (from astunparse>=1.6.0->tensorflow) (0.45.1)\n",
            "Requirement already satisfied: rich in /usr/local/lib/python3.11/dist-packages (from keras>=3.5.0->tensorflow) (13.9.4)\n",
            "Requirement already satisfied: namex in /usr/local/lib/python3.11/dist-packages (from keras>=3.5.0->tensorflow) (0.0.8)\n",
            "Requirement already satisfied: optree in /usr/local/lib/python3.11/dist-packages (from keras>=3.5.0->tensorflow) (0.14.0)\n",
            "Requirement already satisfied: charset-normalizer<4,>=2 in /usr/local/lib/python3.11/dist-packages (from requests<3,>=2.21.0->tensorflow) (3.4.1)\n",
            "Requirement already satisfied: idna<4,>=2.5 in /usr/local/lib/python3.11/dist-packages (from requests<3,>=2.21.0->tensorflow) (3.10)\n",
            "Requirement already satisfied: urllib3<3,>=1.21.1 in /usr/local/lib/python3.11/dist-packages (from requests<3,>=2.21.0->tensorflow) (2.3.0)\n",
            "Requirement already satisfied: certifi>=2017.4.17 in /usr/local/lib/python3.11/dist-packages (from requests<3,>=2.21.0->tensorflow) (2025.1.31)\n",
            "Requirement already satisfied: markdown>=2.6.8 in /usr/local/lib/python3.11/dist-packages (from tensorboard<2.19,>=2.18->tensorflow) (3.7)\n",
            "Requirement already satisfied: tensorboard-data-server<0.8.0,>=0.7.0 in /usr/local/lib/python3.11/dist-packages (from tensorboard<2.19,>=2.18->tensorflow) (0.7.2)\n",
            "Requirement already satisfied: werkzeug>=1.0.1 in /usr/local/lib/python3.11/dist-packages (from tensorboard<2.19,>=2.18->tensorflow) (3.1.3)\n",
            "Requirement already satisfied: MarkupSafe>=2.1.1 in /usr/local/lib/python3.11/dist-packages (from werkzeug>=1.0.1->tensorboard<2.19,>=2.18->tensorflow) (3.0.2)\n",
            "Requirement already satisfied: markdown-it-py>=2.2.0 in /usr/local/lib/python3.11/dist-packages (from rich->keras>=3.5.0->tensorflow) (3.0.0)\n",
            "Requirement already satisfied: pygments<3.0.0,>=2.13.0 in /usr/local/lib/python3.11/dist-packages (from rich->keras>=3.5.0->tensorflow) (2.18.0)\n",
            "Requirement already satisfied: mdurl~=0.1 in /usr/local/lib/python3.11/dist-packages (from markdown-it-py>=2.2.0->rich->keras>=3.5.0->tensorflow) (0.1.2)\n"
          ]
        }
      ]
    },
    {
      "cell_type": "code",
      "source": [
        "import numpy as np\n",
        "import pandas as pd\n",
        "import tensorflow as tf\n",
        "from tensorflow import keras\n",
        "from tensorflow.keras.layers import Dense, Input\n",
        "from sklearn.model_selection import train_test_split\n"
      ],
      "metadata": {
        "id": "37nXVuKVgF6z"
      },
      "execution_count": null,
      "outputs": []
    },
    {
      "cell_type": "code",
      "source": [
        "# Number of samples\n",
        "num_samples = 1000\n",
        "\n",
        "# Generate synthetic user health data\n",
        "np.random.seed(42)\n",
        "data = {\n",
        "    \"age\": np.random.randint(18, 60, num_samples),\n",
        "    \"gender\": np.random.choice([\"Male\", \"Female\"], num_samples),\n",
        "    \"height_cm\": np.random.randint(150, 200, num_samples),\n",
        "    \"weight_kg\": np.random.randint(50, 120, num_samples),\n",
        "    \"bmi\": np.random.uniform(18, 35, num_samples),\n",
        "    \"body_fat_percent\": np.random.uniform(10, 40, num_samples),\n",
        "    \"muscle_mass_kg\": np.random.uniform(40, 80, num_samples),\n",
        "    \"bone_mass_kg\": np.random.uniform(2, 5, num_samples),\n",
        "    \"water_percent\": np.random.uniform(50, 70, num_samples),\n",
        "    \"bmr_kcal\": np.random.randint(1200, 2500, num_samples),\n",
        "    \"visceral_fat\": np.random.randint(1, 15, num_samples),\n",
        "    \"metabolic_age\": np.random.randint(18, 55, num_samples),\n",
        "    \"activity_level\": np.random.choice([\"Sedentary\", \"Moderate\", \"Active\"], num_samples),\n",
        "    \"fitness_goal\": np.random.choice([\"Weight Loss\", \"Muscle Gain\", \"Maintain\"], num_samples)\n",
        "}\n",
        "\n",
        "df = pd.DataFrame(data)\n"
      ],
      "metadata": {
        "id": "07MW-8-ygH9L"
      },
      "execution_count": null,
      "outputs": []
    },
    {
      "cell_type": "code",
      "source": [
        "df[\"gender\"] = df[\"gender\"].map({\"Male\": 0, \"Female\": 1})\n",
        "df[\"activity_level\"] = df[\"activity_level\"].map({\"Sedentary\": 0, \"Moderate\": 1, \"Active\": 2})\n",
        "df[\"fitness_goal\"] = df[\"fitness_goal\"].map({\"Weight Loss\": 0, \"Muscle Gain\": 1, \"Maintain\": 2})\n"
      ],
      "metadata": {
        "id": "5sKe0m78gMQK"
      },
      "execution_count": null,
      "outputs": []
    },
    {
      "cell_type": "code",
      "source": [
        "X = df.drop(columns=[\"fitness_goal\"])  # Input features\n",
        "y_diet = np.random.randint(1800, 3500, (num_samples,))  # Diet Plan: Calories per day\n",
        "y_workout = np.random.randint(3, 6, (num_samples,))  # Workout Plan: Days per week\n"
      ],
      "metadata": {
        "id": "_tuB_RhUgOuv"
      },
      "execution_count": null,
      "outputs": []
    },
    {
      "cell_type": "code",
      "source": [
        "X_train, X_test, y_diet_train, y_diet_test, y_workout_train, y_workout_test = train_test_split(\n",
        "    X, y_diet, y_workout, test_size=0.2, random_state=42\n",
        ")\n"
      ],
      "metadata": {
        "id": "yT-n8t7wgSA0"
      },
      "execution_count": null,
      "outputs": []
    },
    {
      "cell_type": "code",
      "source": [
        "# Input layer\n",
        "input_layer = Input(shape=(X_train.shape[1],))\n",
        "\n",
        "# Hidden layers\n",
        "x = Dense(64, activation='relu')(input_layer)\n",
        "x = Dense(32, activation='relu')(x)\n",
        "\n",
        "# Output 1: Diet Plan (Calories)\n",
        "output_diet = Dense(1, activation='linear', name=\"diet_output\")(x)\n",
        "\n",
        "# Output 2: Workout Plan (Days per week)\n",
        "output_workout = Dense(1, activation='linear', name=\"workout_output\")(x)\n",
        "\n",
        "# Create the model\n",
        "model = keras.Model(inputs=input_layer, outputs=[output_diet, output_workout])\n",
        "\n",
        "# Compile the model\n",
        "model.compile(optimizer='adam', loss={'diet_output': 'mse', 'workout_output': 'mse'})\n",
        "\n",
        "# Summary\n",
        "model.summary()\n"
      ],
      "metadata": {
        "colab": {
          "base_uri": "https://localhost:8080/",
          "height": 306
        },
        "id": "NbgjxgaegUUk",
        "outputId": "7a9bcf3c-f8f3-4403-9cda-901beb07942c"
      },
      "execution_count": null,
      "outputs": [
        {
          "output_type": "display_data",
          "data": {
            "text/plain": [
              "\u001b[1mModel: \"functional\"\u001b[0m\n"
            ],
            "text/html": [
              "<pre style=\"white-space:pre;overflow-x:auto;line-height:normal;font-family:Menlo,'DejaVu Sans Mono',consolas,'Courier New',monospace\"><span style=\"font-weight: bold\">Model: \"functional\"</span>\n",
              "</pre>\n"
            ]
          },
          "metadata": {}
        },
        {
          "output_type": "display_data",
          "data": {
            "text/plain": [
              "┏━━━━━━━━━━━━━━━━━━━━━━━━━━━┳━━━━━━━━━━━━━━━━━━━━━━━━┳━━━━━━━━━━━━━━━━┳━━━━━━━━━━━━━━━━━━━━━━━━┓\n",
              "┃\u001b[1m \u001b[0m\u001b[1mLayer (type)             \u001b[0m\u001b[1m \u001b[0m┃\u001b[1m \u001b[0m\u001b[1mOutput Shape          \u001b[0m\u001b[1m \u001b[0m┃\u001b[1m \u001b[0m\u001b[1m       Param #\u001b[0m\u001b[1m \u001b[0m┃\u001b[1m \u001b[0m\u001b[1mConnected to          \u001b[0m\u001b[1m \u001b[0m┃\n",
              "┡━━━━━━━━━━━━━━━━━━━━━━━━━━━╇━━━━━━━━━━━━━━━━━━━━━━━━╇━━━━━━━━━━━━━━━━╇━━━━━━━━━━━━━━━━━━━━━━━━┩\n",
              "│ input_layer (\u001b[38;5;33mInputLayer\u001b[0m)  │ (\u001b[38;5;45mNone\u001b[0m, \u001b[38;5;34m13\u001b[0m)             │              \u001b[38;5;34m0\u001b[0m │ -                      │\n",
              "├───────────────────────────┼────────────────────────┼────────────────┼────────────────────────┤\n",
              "│ dense (\u001b[38;5;33mDense\u001b[0m)             │ (\u001b[38;5;45mNone\u001b[0m, \u001b[38;5;34m64\u001b[0m)             │            \u001b[38;5;34m896\u001b[0m │ input_layer[\u001b[38;5;34m0\u001b[0m][\u001b[38;5;34m0\u001b[0m]      │\n",
              "├───────────────────────────┼────────────────────────┼────────────────┼────────────────────────┤\n",
              "│ dense_1 (\u001b[38;5;33mDense\u001b[0m)           │ (\u001b[38;5;45mNone\u001b[0m, \u001b[38;5;34m32\u001b[0m)             │          \u001b[38;5;34m2,080\u001b[0m │ dense[\u001b[38;5;34m0\u001b[0m][\u001b[38;5;34m0\u001b[0m]            │\n",
              "├───────────────────────────┼────────────────────────┼────────────────┼────────────────────────┤\n",
              "│ diet_output (\u001b[38;5;33mDense\u001b[0m)       │ (\u001b[38;5;45mNone\u001b[0m, \u001b[38;5;34m1\u001b[0m)              │             \u001b[38;5;34m33\u001b[0m │ dense_1[\u001b[38;5;34m0\u001b[0m][\u001b[38;5;34m0\u001b[0m]          │\n",
              "├───────────────────────────┼────────────────────────┼────────────────┼────────────────────────┤\n",
              "│ workout_output (\u001b[38;5;33mDense\u001b[0m)    │ (\u001b[38;5;45mNone\u001b[0m, \u001b[38;5;34m1\u001b[0m)              │             \u001b[38;5;34m33\u001b[0m │ dense_1[\u001b[38;5;34m0\u001b[0m][\u001b[38;5;34m0\u001b[0m]          │\n",
              "└───────────────────────────┴────────────────────────┴────────────────┴────────────────────────┘\n"
            ],
            "text/html": [
              "<pre style=\"white-space:pre;overflow-x:auto;line-height:normal;font-family:Menlo,'DejaVu Sans Mono',consolas,'Courier New',monospace\">┏━━━━━━━━━━━━━━━━━━━━━━━━━━━┳━━━━━━━━━━━━━━━━━━━━━━━━┳━━━━━━━━━━━━━━━━┳━━━━━━━━━━━━━━━━━━━━━━━━┓\n",
              "┃<span style=\"font-weight: bold\"> Layer (type)              </span>┃<span style=\"font-weight: bold\"> Output Shape           </span>┃<span style=\"font-weight: bold\">        Param # </span>┃<span style=\"font-weight: bold\"> Connected to           </span>┃\n",
              "┡━━━━━━━━━━━━━━━━━━━━━━━━━━━╇━━━━━━━━━━━━━━━━━━━━━━━━╇━━━━━━━━━━━━━━━━╇━━━━━━━━━━━━━━━━━━━━━━━━┩\n",
              "│ input_layer (<span style=\"color: #0087ff; text-decoration-color: #0087ff\">InputLayer</span>)  │ (<span style=\"color: #00d7ff; text-decoration-color: #00d7ff\">None</span>, <span style=\"color: #00af00; text-decoration-color: #00af00\">13</span>)             │              <span style=\"color: #00af00; text-decoration-color: #00af00\">0</span> │ -                      │\n",
              "├───────────────────────────┼────────────────────────┼────────────────┼────────────────────────┤\n",
              "│ dense (<span style=\"color: #0087ff; text-decoration-color: #0087ff\">Dense</span>)             │ (<span style=\"color: #00d7ff; text-decoration-color: #00d7ff\">None</span>, <span style=\"color: #00af00; text-decoration-color: #00af00\">64</span>)             │            <span style=\"color: #00af00; text-decoration-color: #00af00\">896</span> │ input_layer[<span style=\"color: #00af00; text-decoration-color: #00af00\">0</span>][<span style=\"color: #00af00; text-decoration-color: #00af00\">0</span>]      │\n",
              "├───────────────────────────┼────────────────────────┼────────────────┼────────────────────────┤\n",
              "│ dense_1 (<span style=\"color: #0087ff; text-decoration-color: #0087ff\">Dense</span>)           │ (<span style=\"color: #00d7ff; text-decoration-color: #00d7ff\">None</span>, <span style=\"color: #00af00; text-decoration-color: #00af00\">32</span>)             │          <span style=\"color: #00af00; text-decoration-color: #00af00\">2,080</span> │ dense[<span style=\"color: #00af00; text-decoration-color: #00af00\">0</span>][<span style=\"color: #00af00; text-decoration-color: #00af00\">0</span>]            │\n",
              "├───────────────────────────┼────────────────────────┼────────────────┼────────────────────────┤\n",
              "│ diet_output (<span style=\"color: #0087ff; text-decoration-color: #0087ff\">Dense</span>)       │ (<span style=\"color: #00d7ff; text-decoration-color: #00d7ff\">None</span>, <span style=\"color: #00af00; text-decoration-color: #00af00\">1</span>)              │             <span style=\"color: #00af00; text-decoration-color: #00af00\">33</span> │ dense_1[<span style=\"color: #00af00; text-decoration-color: #00af00\">0</span>][<span style=\"color: #00af00; text-decoration-color: #00af00\">0</span>]          │\n",
              "├───────────────────────────┼────────────────────────┼────────────────┼────────────────────────┤\n",
              "│ workout_output (<span style=\"color: #0087ff; text-decoration-color: #0087ff\">Dense</span>)    │ (<span style=\"color: #00d7ff; text-decoration-color: #00d7ff\">None</span>, <span style=\"color: #00af00; text-decoration-color: #00af00\">1</span>)              │             <span style=\"color: #00af00; text-decoration-color: #00af00\">33</span> │ dense_1[<span style=\"color: #00af00; text-decoration-color: #00af00\">0</span>][<span style=\"color: #00af00; text-decoration-color: #00af00\">0</span>]          │\n",
              "└───────────────────────────┴────────────────────────┴────────────────┴────────────────────────┘\n",
              "</pre>\n"
            ]
          },
          "metadata": {}
        },
        {
          "output_type": "display_data",
          "data": {
            "text/plain": [
              "\u001b[1m Total params: \u001b[0m\u001b[38;5;34m3,042\u001b[0m (11.88 KB)\n"
            ],
            "text/html": [
              "<pre style=\"white-space:pre;overflow-x:auto;line-height:normal;font-family:Menlo,'DejaVu Sans Mono',consolas,'Courier New',monospace\"><span style=\"font-weight: bold\"> Total params: </span><span style=\"color: #00af00; text-decoration-color: #00af00\">3,042</span> (11.88 KB)\n",
              "</pre>\n"
            ]
          },
          "metadata": {}
        },
        {
          "output_type": "display_data",
          "data": {
            "text/plain": [
              "\u001b[1m Trainable params: \u001b[0m\u001b[38;5;34m3,042\u001b[0m (11.88 KB)\n"
            ],
            "text/html": [
              "<pre style=\"white-space:pre;overflow-x:auto;line-height:normal;font-family:Menlo,'DejaVu Sans Mono',consolas,'Courier New',monospace\"><span style=\"font-weight: bold\"> Trainable params: </span><span style=\"color: #00af00; text-decoration-color: #00af00\">3,042</span> (11.88 KB)\n",
              "</pre>\n"
            ]
          },
          "metadata": {}
        },
        {
          "output_type": "display_data",
          "data": {
            "text/plain": [
              "\u001b[1m Non-trainable params: \u001b[0m\u001b[38;5;34m0\u001b[0m (0.00 B)\n"
            ],
            "text/html": [
              "<pre style=\"white-space:pre;overflow-x:auto;line-height:normal;font-family:Menlo,'DejaVu Sans Mono',consolas,'Courier New',monospace\"><span style=\"font-weight: bold\"> Non-trainable params: </span><span style=\"color: #00af00; text-decoration-color: #00af00\">0</span> (0.00 B)\n",
              "</pre>\n"
            ]
          },
          "metadata": {}
        }
      ]
    },
    {
      "cell_type": "code",
      "source": [
        "history = model.fit(\n",
        "    X_train, {\"diet_output\": y_diet_train, \"workout_output\": y_workout_train},\n",
        "    validation_data=(X_test, {\"diet_output\": y_diet_test, \"workout_output\": y_workout_test}),\n",
        "    epochs=50, batch_size=16\n",
        ")\n"
      ],
      "metadata": {
        "colab": {
          "base_uri": "https://localhost:8080/"
        },
        "id": "kdwx5wk3gWK3",
        "outputId": "4ba1d6bd-e1d4-4648-92dd-49f49d78fca3"
      },
      "execution_count": null,
      "outputs": [
        {
          "output_type": "stream",
          "name": "stdout",
          "text": [
            "Epoch 1/50\n",
            "\u001b[1m50/50\u001b[0m \u001b[32m━━━━━━━━━━━━━━━━━━━━\u001b[0m\u001b[37m\u001b[0m \u001b[1m5s\u001b[0m 11ms/step - diet_output_loss: 7328224.0000 - loss: 7329055.0000 - workout_output_loss: 831.0612 - val_diet_output_loss: 3785425.2500 - val_loss: 3785895.0000 - val_workout_output_loss: 167.6687\n",
            "Epoch 2/50\n",
            "\u001b[1m50/50\u001b[0m \u001b[32m━━━━━━━━━━━━━━━━━━━━\u001b[0m\u001b[37m\u001b[0m \u001b[1m1s\u001b[0m 3ms/step - diet_output_loss: 2716151.7500 - loss: 2716206.7500 - workout_output_loss: 55.2069 - val_diet_output_loss: 496993.1250 - val_loss: 498501.1562 - val_workout_output_loss: 9.6082\n",
            "Epoch 3/50\n",
            "\u001b[1m50/50\u001b[0m \u001b[32m━━━━━━━━━━━━━━━━━━━━\u001b[0m\u001b[37m\u001b[0m \u001b[1m0s\u001b[0m 4ms/step - diet_output_loss: 460493.7812 - loss: 460500.3438 - workout_output_loss: 6.5556 - val_diet_output_loss: 450758.3125 - val_loss: 451206.8750 - val_workout_output_loss: 8.7126\n",
            "Epoch 4/50\n",
            "\u001b[1m50/50\u001b[0m \u001b[32m━━━━━━━━━━━━━━━━━━━━\u001b[0m\u001b[37m\u001b[0m \u001b[1m0s\u001b[0m 4ms/step - diet_output_loss: 451782.2812 - loss: 451788.6250 - workout_output_loss: 6.3328 - val_diet_output_loss: 441983.5625 - val_loss: 441970.2812 - val_workout_output_loss: 5.1085\n",
            "Epoch 5/50\n",
            "\u001b[1m50/50\u001b[0m \u001b[32m━━━━━━━━━━━━━━━━━━━━\u001b[0m\u001b[37m\u001b[0m \u001b[1m0s\u001b[0m 4ms/step - diet_output_loss: 441655.7188 - loss: 441660.6562 - workout_output_loss: 4.9027 - val_diet_output_loss: 437628.1562 - val_loss: 437484.8750 - val_workout_output_loss: 4.5430\n",
            "Epoch 6/50\n",
            "\u001b[1m50/50\u001b[0m \u001b[32m━━━━━━━━━━━━━━━━━━━━\u001b[0m\u001b[37m\u001b[0m \u001b[1m0s\u001b[0m 3ms/step - diet_output_loss: 436481.6250 - loss: 436486.3750 - workout_output_loss: 4.7382 - val_diet_output_loss: 434449.9688 - val_loss: 434547.4688 - val_workout_output_loss: 4.4246\n",
            "Epoch 7/50\n",
            "\u001b[1m50/50\u001b[0m \u001b[32m━━━━━━━━━━━━━━━━━━━━\u001b[0m\u001b[37m\u001b[0m \u001b[1m0s\u001b[0m 3ms/step - diet_output_loss: 462877.6562 - loss: 462883.3125 - workout_output_loss: 5.5975 - val_diet_output_loss: 431663.6562 - val_loss: 431881.0000 - val_workout_output_loss: 4.9809\n",
            "Epoch 8/50\n",
            "\u001b[1m50/50\u001b[0m \u001b[32m━━━━━━━━━━━━━━━━━━━━\u001b[0m\u001b[37m\u001b[0m \u001b[1m0s\u001b[0m 3ms/step - diet_output_loss: 439083.5938 - loss: 439090.0000 - workout_output_loss: 6.3824 - val_diet_output_loss: 423483.5312 - val_loss: 423291.9062 - val_workout_output_loss: 5.2434\n",
            "Epoch 9/50\n",
            "\u001b[1m50/50\u001b[0m \u001b[32m━━━━━━━━━━━━━━━━━━━━\u001b[0m\u001b[37m\u001b[0m \u001b[1m0s\u001b[0m 3ms/step - diet_output_loss: 443030.0000 - loss: 443034.3750 - workout_output_loss: 4.3551 - val_diet_output_loss: 419294.6250 - val_loss: 419251.4062 - val_workout_output_loss: 4.4840\n",
            "Epoch 10/50\n",
            "\u001b[1m50/50\u001b[0m \u001b[32m━━━━━━━━━━━━━━━━━━━━\u001b[0m\u001b[37m\u001b[0m \u001b[1m0s\u001b[0m 4ms/step - diet_output_loss: 429924.6875 - loss: 429929.7188 - workout_output_loss: 5.0469 - val_diet_output_loss: 415387.6250 - val_loss: 415443.2812 - val_workout_output_loss: 4.7088\n",
            "Epoch 11/50\n",
            "\u001b[1m50/50\u001b[0m \u001b[32m━━━━━━━━━━━━━━━━━━━━\u001b[0m\u001b[37m\u001b[0m \u001b[1m0s\u001b[0m 3ms/step - diet_output_loss: 419737.9375 - loss: 419743.5938 - workout_output_loss: 5.6662 - val_diet_output_loss: 409635.3438 - val_loss: 409629.1562 - val_workout_output_loss: 4.5114\n",
            "Epoch 12/50\n",
            "\u001b[1m50/50\u001b[0m \u001b[32m━━━━━━━━━━━━━━━━━━━━\u001b[0m\u001b[37m\u001b[0m \u001b[1m0s\u001b[0m 3ms/step - diet_output_loss: 430473.5938 - loss: 430478.2812 - workout_output_loss: 4.7299 - val_diet_output_loss: 403147.6250 - val_loss: 402595.3125 - val_workout_output_loss: 4.9375\n",
            "Epoch 13/50\n",
            "\u001b[1m50/50\u001b[0m \u001b[32m━━━━━━━━━━━━━━━━━━━━\u001b[0m\u001b[37m\u001b[0m \u001b[1m0s\u001b[0m 4ms/step - diet_output_loss: 421070.5312 - loss: 421076.3125 - workout_output_loss: 5.7584 - val_diet_output_loss: 396668.5312 - val_loss: 396263.9062 - val_workout_output_loss: 7.1717\n",
            "Epoch 14/50\n",
            "\u001b[1m50/50\u001b[0m \u001b[32m━━━━━━━━━━━━━━━━━━━━\u001b[0m\u001b[37m\u001b[0m \u001b[1m0s\u001b[0m 3ms/step - diet_output_loss: 420622.5938 - loss: 420627.4062 - workout_output_loss: 4.7975 - val_diet_output_loss: 391447.8750 - val_loss: 391228.3125 - val_workout_output_loss: 5.5137\n",
            "Epoch 15/50\n",
            "\u001b[1m50/50\u001b[0m \u001b[32m━━━━━━━━━━━━━━━━━━━━\u001b[0m\u001b[37m\u001b[0m \u001b[1m0s\u001b[0m 4ms/step - diet_output_loss: 439612.4062 - loss: 439617.8750 - workout_output_loss: 5.4205 - val_diet_output_loss: 391871.1875 - val_loss: 392020.8750 - val_workout_output_loss: 7.9431\n",
            "Epoch 16/50\n",
            "\u001b[1m50/50\u001b[0m \u001b[32m━━━━━━━━━━━━━━━━━━━━\u001b[0m\u001b[37m\u001b[0m \u001b[1m0s\u001b[0m 4ms/step - diet_output_loss: 402955.9062 - loss: 402962.6562 - workout_output_loss: 6.7343 - val_diet_output_loss: 379346.6562 - val_loss: 379057.6875 - val_workout_output_loss: 5.4678\n",
            "Epoch 17/50\n",
            "\u001b[1m50/50\u001b[0m \u001b[32m━━━━━━━━━━━━━━━━━━━━\u001b[0m\u001b[37m\u001b[0m \u001b[1m0s\u001b[0m 3ms/step - diet_output_loss: 405663.3125 - loss: 405668.9375 - workout_output_loss: 5.5907 - val_diet_output_loss: 373990.7812 - val_loss: 373778.9688 - val_workout_output_loss: 6.9047\n",
            "Epoch 18/50\n",
            "\u001b[1m50/50\u001b[0m \u001b[32m━━━━━━━━━━━━━━━━━━━━\u001b[0m\u001b[37m\u001b[0m \u001b[1m0s\u001b[0m 4ms/step - diet_output_loss: 379496.6562 - loss: 379501.8125 - workout_output_loss: 5.1698 - val_diet_output_loss: 374566.6562 - val_loss: 374661.8125 - val_workout_output_loss: 4.7802\n",
            "Epoch 19/50\n",
            "\u001b[1m50/50\u001b[0m \u001b[32m━━━━━━━━━━━━━━━━━━━━\u001b[0m\u001b[37m\u001b[0m \u001b[1m0s\u001b[0m 4ms/step - diet_output_loss: 358808.3750 - loss: 358813.0000 - workout_output_loss: 4.6056 - val_diet_output_loss: 360673.3125 - val_loss: 360266.8438 - val_workout_output_loss: 4.3488\n",
            "Epoch 20/50\n",
            "\u001b[1m50/50\u001b[0m \u001b[32m━━━━━━━━━━━━━━━━━━━━\u001b[0m\u001b[37m\u001b[0m \u001b[1m0s\u001b[0m 3ms/step - diet_output_loss: 383439.4062 - loss: 383445.1250 - workout_output_loss: 5.7499 - val_diet_output_loss: 356312.5625 - val_loss: 356128.1875 - val_workout_output_loss: 4.6227\n",
            "Epoch 21/50\n",
            "\u001b[1m50/50\u001b[0m \u001b[32m━━━━━━━━━━━━━━━━━━━━\u001b[0m\u001b[37m\u001b[0m \u001b[1m0s\u001b[0m 4ms/step - diet_output_loss: 358911.0312 - loss: 358915.3750 - workout_output_loss: 4.3451 - val_diet_output_loss: 348318.0312 - val_loss: 348020.7500 - val_workout_output_loss: 5.9864\n",
            "Epoch 22/50\n",
            "\u001b[1m50/50\u001b[0m \u001b[32m━━━━━━━━━━━━━━━━━━━━\u001b[0m\u001b[37m\u001b[0m \u001b[1m0s\u001b[0m 3ms/step - diet_output_loss: 372288.2500 - loss: 372293.1875 - workout_output_loss: 4.9245 - val_diet_output_loss: 341258.3750 - val_loss: 340874.4062 - val_workout_output_loss: 4.3348\n",
            "Epoch 23/50\n",
            "\u001b[1m50/50\u001b[0m \u001b[32m━━━━━━━━━━━━━━━━━━━━\u001b[0m\u001b[37m\u001b[0m \u001b[1m0s\u001b[0m 3ms/step - diet_output_loss: 369265.7188 - loss: 369270.4688 - workout_output_loss: 4.7499 - val_diet_output_loss: 335694.6875 - val_loss: 335441.4062 - val_workout_output_loss: 5.5754\n",
            "Epoch 24/50\n",
            "\u001b[1m50/50\u001b[0m \u001b[32m━━━━━━━━━━━━━━━━━━━━\u001b[0m\u001b[37m\u001b[0m \u001b[1m0s\u001b[0m 4ms/step - diet_output_loss: 368675.4375 - loss: 368680.1562 - workout_output_loss: 4.7285 - val_diet_output_loss: 328123.9375 - val_loss: 327537.8438 - val_workout_output_loss: 4.8406\n",
            "Epoch 25/50\n",
            "\u001b[1m50/50\u001b[0m \u001b[32m━━━━━━━━━━━━━━━━━━━━\u001b[0m\u001b[37m\u001b[0m \u001b[1m0s\u001b[0m 3ms/step - diet_output_loss: 343872.8125 - loss: 343877.5625 - workout_output_loss: 4.7279 - val_diet_output_loss: 325161.6562 - val_loss: 325035.0312 - val_workout_output_loss: 4.8055\n",
            "Epoch 26/50\n",
            "\u001b[1m50/50\u001b[0m \u001b[32m━━━━━━━━━━━━━━━━━━━━\u001b[0m\u001b[37m\u001b[0m \u001b[1m0s\u001b[0m 3ms/step - diet_output_loss: 323738.7812 - loss: 323744.8125 - workout_output_loss: 6.0299 - val_diet_output_loss: 314288.0938 - val_loss: 313969.9062 - val_workout_output_loss: 4.9497\n",
            "Epoch 27/50\n",
            "\u001b[1m50/50\u001b[0m \u001b[32m━━━━━━━━━━━━━━━━━━━━\u001b[0m\u001b[37m\u001b[0m \u001b[1m0s\u001b[0m 4ms/step - diet_output_loss: 327258.0625 - loss: 327262.8438 - workout_output_loss: 4.7505 - val_diet_output_loss: 307406.4375 - val_loss: 307116.3750 - val_workout_output_loss: 4.3390\n",
            "Epoch 28/50\n",
            "\u001b[1m50/50\u001b[0m \u001b[32m━━━━━━━━━━━━━━━━━━━━\u001b[0m\u001b[37m\u001b[0m \u001b[1m0s\u001b[0m 4ms/step - diet_output_loss: 321193.0312 - loss: 321197.8125 - workout_output_loss: 4.8258 - val_diet_output_loss: 305252.8125 - val_loss: 305174.3750 - val_workout_output_loss: 6.2855\n",
            "Epoch 29/50\n",
            "\u001b[1m50/50\u001b[0m \u001b[32m━━━━━━━━━━━━━━━━━━━━\u001b[0m\u001b[37m\u001b[0m \u001b[1m0s\u001b[0m 3ms/step - diet_output_loss: 310351.5625 - loss: 310357.6562 - workout_output_loss: 6.0517 - val_diet_output_loss: 297000.1562 - val_loss: 296892.7812 - val_workout_output_loss: 5.5352\n",
            "Epoch 30/50\n",
            "\u001b[1m50/50\u001b[0m \u001b[32m━━━━━━━━━━━━━━━━━━━━\u001b[0m\u001b[37m\u001b[0m \u001b[1m0s\u001b[0m 3ms/step - diet_output_loss: 312379.3125 - loss: 312385.2188 - workout_output_loss: 5.8719 - val_diet_output_loss: 290703.7812 - val_loss: 290639.3438 - val_workout_output_loss: 4.4376\n",
            "Epoch 31/50\n",
            "\u001b[1m50/50\u001b[0m \u001b[32m━━━━━━━━━━━━━━━━━━━━\u001b[0m\u001b[37m\u001b[0m \u001b[1m0s\u001b[0m 4ms/step - diet_output_loss: 312730.9062 - loss: 312735.3438 - workout_output_loss: 4.4443 - val_diet_output_loss: 282007.5625 - val_loss: 281892.5938 - val_workout_output_loss: 4.9050\n",
            "Epoch 32/50\n",
            "\u001b[1m50/50\u001b[0m \u001b[32m━━━━━━━━━━━━━━━━━━━━\u001b[0m\u001b[37m\u001b[0m \u001b[1m0s\u001b[0m 4ms/step - diet_output_loss: 289714.2812 - loss: 289720.0938 - workout_output_loss: 5.7859 - val_diet_output_loss: 286697.1250 - val_loss: 286832.1562 - val_workout_output_loss: 5.1538\n",
            "Epoch 33/50\n",
            "\u001b[1m50/50\u001b[0m \u001b[32m━━━━━━━━━━━━━━━━━━━━\u001b[0m\u001b[37m\u001b[0m \u001b[1m0s\u001b[0m 4ms/step - diet_output_loss: 295086.1250 - loss: 295090.7500 - workout_output_loss: 4.6648 - val_diet_output_loss: 272894.1250 - val_loss: 272963.8750 - val_workout_output_loss: 7.6908\n",
            "Epoch 34/50\n",
            "\u001b[1m50/50\u001b[0m \u001b[32m━━━━━━━━━━━━━━━━━━━━\u001b[0m\u001b[37m\u001b[0m \u001b[1m0s\u001b[0m 4ms/step - diet_output_loss: 282817.9375 - loss: 282823.2812 - workout_output_loss: 5.3718 - val_diet_output_loss: 270708.3438 - val_loss: 270885.3438 - val_workout_output_loss: 4.2386\n",
            "Epoch 35/50\n",
            "\u001b[1m50/50\u001b[0m \u001b[32m━━━━━━━━━━━━━━━━━━━━\u001b[0m\u001b[37m\u001b[0m \u001b[1m0s\u001b[0m 4ms/step - diet_output_loss: 282685.2188 - loss: 282689.9375 - workout_output_loss: 4.6902 - val_diet_output_loss: 269558.0000 - val_loss: 269822.3438 - val_workout_output_loss: 4.5349\n",
            "Epoch 36/50\n",
            "\u001b[1m50/50\u001b[0m \u001b[32m━━━━━━━━━━━━━━━━━━━━\u001b[0m\u001b[37m\u001b[0m \u001b[1m0s\u001b[0m 5ms/step - diet_output_loss: 289737.3750 - loss: 289742.2500 - workout_output_loss: 4.8445 - val_diet_output_loss: 265415.5312 - val_loss: 265733.0312 - val_workout_output_loss: 4.4287\n",
            "Epoch 37/50\n",
            "\u001b[1m50/50\u001b[0m \u001b[32m━━━━━━━━━━━━━━━━━━━━\u001b[0m\u001b[37m\u001b[0m \u001b[1m0s\u001b[0m 6ms/step - diet_output_loss: 280550.5312 - loss: 280556.1875 - workout_output_loss: 5.6396 - val_diet_output_loss: 269653.6562 - val_loss: 270051.0312 - val_workout_output_loss: 4.5160\n",
            "Epoch 38/50\n",
            "\u001b[1m50/50\u001b[0m \u001b[32m━━━━━━━━━━━━━━━━━━━━\u001b[0m\u001b[37m\u001b[0m \u001b[1m1s\u001b[0m 6ms/step - diet_output_loss: 290215.0312 - loss: 290220.1875 - workout_output_loss: 5.1190 - val_diet_output_loss: 274135.4688 - val_loss: 274556.4688 - val_workout_output_loss: 4.4948\n",
            "Epoch 39/50\n",
            "\u001b[1m50/50\u001b[0m \u001b[32m━━━━━━━━━━━━━━━━━━━━\u001b[0m\u001b[37m\u001b[0m \u001b[1m1s\u001b[0m 7ms/step - diet_output_loss: 279748.5312 - loss: 279753.6562 - workout_output_loss: 5.1568 - val_diet_output_loss: 255283.9844 - val_loss: 255761.1250 - val_workout_output_loss: 6.5808\n",
            "Epoch 40/50\n",
            "\u001b[1m50/50\u001b[0m \u001b[32m━━━━━━━━━━━━━━━━━━━━\u001b[0m\u001b[37m\u001b[0m \u001b[1m0s\u001b[0m 3ms/step - diet_output_loss: 282300.5000 - loss: 282306.2812 - workout_output_loss: 5.7811 - val_diet_output_loss: 253312.6875 - val_loss: 253885.4219 - val_workout_output_loss: 6.5804\n",
            "Epoch 41/50\n",
            "\u001b[1m50/50\u001b[0m \u001b[32m━━━━━━━━━━━━━━━━━━━━\u001b[0m\u001b[37m\u001b[0m \u001b[1m0s\u001b[0m 4ms/step - diet_output_loss: 270349.0312 - loss: 270355.2812 - workout_output_loss: 6.2610 - val_diet_output_loss: 262127.1562 - val_loss: 262696.4062 - val_workout_output_loss: 4.6938\n",
            "Epoch 42/50\n",
            "\u001b[1m50/50\u001b[0m \u001b[32m━━━━━━━━━━━━━━━━━━━━\u001b[0m\u001b[37m\u001b[0m \u001b[1m0s\u001b[0m 4ms/step - diet_output_loss: 287203.9062 - loss: 287209.0312 - workout_output_loss: 5.1298 - val_diet_output_loss: 257459.5156 - val_loss: 258120.1562 - val_workout_output_loss: 5.5738\n",
            "Epoch 43/50\n",
            "\u001b[1m50/50\u001b[0m \u001b[32m━━━━━━━━━━━━━━━━━━━━\u001b[0m\u001b[37m\u001b[0m \u001b[1m0s\u001b[0m 4ms/step - diet_output_loss: 277718.3750 - loss: 277724.6250 - workout_output_loss: 6.3016 - val_diet_output_loss: 274875.0938 - val_loss: 275459.9375 - val_workout_output_loss: 8.5695\n",
            "Epoch 44/50\n",
            "\u001b[1m50/50\u001b[0m \u001b[32m━━━━━━━━━━━━━━━━━━━━\u001b[0m\u001b[37m\u001b[0m \u001b[1m0s\u001b[0m 4ms/step - diet_output_loss: 280791.4062 - loss: 280798.4688 - workout_output_loss: 7.0434 - val_diet_output_loss: 250080.5781 - val_loss: 250867.2969 - val_workout_output_loss: 4.3819\n",
            "Epoch 45/50\n",
            "\u001b[1m50/50\u001b[0m \u001b[32m━━━━━━━━━━━━━━━━━━━━\u001b[0m\u001b[37m\u001b[0m \u001b[1m0s\u001b[0m 4ms/step - diet_output_loss: 276684.7500 - loss: 276690.3438 - workout_output_loss: 5.5915 - val_diet_output_loss: 274272.5625 - val_loss: 274904.9375 - val_workout_output_loss: 7.5310\n",
            "Epoch 46/50\n",
            "\u001b[1m50/50\u001b[0m \u001b[32m━━━━━━━━━━━━━━━━━━━━\u001b[0m\u001b[37m\u001b[0m \u001b[1m0s\u001b[0m 4ms/step - diet_output_loss: 278879.9688 - loss: 278888.1562 - workout_output_loss: 8.2110 - val_diet_output_loss: 251894.7656 - val_loss: 252710.0625 - val_workout_output_loss: 6.1042\n",
            "Epoch 47/50\n",
            "\u001b[1m50/50\u001b[0m \u001b[32m━━━━━━━━━━━━━━━━━━━━\u001b[0m\u001b[37m\u001b[0m \u001b[1m0s\u001b[0m 3ms/step - diet_output_loss: 277528.7500 - loss: 277534.1562 - workout_output_loss: 5.4110 - val_diet_output_loss: 250723.9375 - val_loss: 251591.0469 - val_workout_output_loss: 4.7947\n",
            "Epoch 48/50\n",
            "\u001b[1m50/50\u001b[0m \u001b[32m━━━━━━━━━━━━━━━━━━━━\u001b[0m\u001b[37m\u001b[0m \u001b[1m0s\u001b[0m 4ms/step - diet_output_loss: 283358.9062 - loss: 283365.3750 - workout_output_loss: 6.4556 - val_diet_output_loss: 263368.1562 - val_loss: 264125.0000 - val_workout_output_loss: 5.5054\n",
            "Epoch 49/50\n",
            "\u001b[1m50/50\u001b[0m \u001b[32m━━━━━━━━━━━━━━━━━━━━\u001b[0m\u001b[37m\u001b[0m \u001b[1m0s\u001b[0m 4ms/step - diet_output_loss: 256578.2188 - loss: 256583.1875 - workout_output_loss: 4.9395 - val_diet_output_loss: 273024.4688 - val_loss: 273710.6250 - val_workout_output_loss: 8.0684\n",
            "Epoch 50/50\n",
            "\u001b[1m50/50\u001b[0m \u001b[32m━━━━━━━━━━━━━━━━━━━━\u001b[0m\u001b[37m\u001b[0m \u001b[1m0s\u001b[0m 4ms/step - diet_output_loss: 292978.1250 - loss: 292983.8125 - workout_output_loss: 5.6307 - val_diet_output_loss: 248905.4375 - val_loss: 249939.9531 - val_workout_output_loss: 4.5896\n"
          ]
        }
      ]
    },
    {
      "cell_type": "code",
      "source": [
        "sample_user = np.array([[\n",
        "    25,   # Age\n",
        "    0,    # Gender (0 = Male, 1 = Female)\n",
        "    175,  # Height (cm)\n",
        "    70,   # Weight (kg)\n",
        "    22.5, # BMI\n",
        "    18.0, # Body Fat %\n",
        "    60,   # Muscle Mass (kg)\n",
        "    3.2,  # Bone Mass (kg)\n",
        "    55,   # Water %\n",
        "    1800, # BMR (kcal)\n",
        "    5,    # Visceral Fat\n",
        "    30,   # Metabolic Age\n",
        "    1,    # Activity Level (0 = Sedentary, 1 = Moderate, 2 = Active)\n",
        "]])\n"
      ],
      "metadata": {
        "id": "Yl7cicidgY-n"
      },
      "execution_count": null,
      "outputs": []
    },
    {
      "cell_type": "code",
      "source": [
        "# Make prediction\n",
        "predicted_diet, predicted_workout = model.predict(sample_user)\n",
        "\n",
        "# Convert predictions to integers for easy readability\n",
        "predicted_diet = int(predicted_diet[0][0])\n",
        "predicted_workout = int(predicted_workout[0][0])\n"
      ],
      "metadata": {
        "colab": {
          "base_uri": "https://localhost:8080/"
        },
        "id": "2VHB8VuVgjek",
        "outputId": "4d2cff6d-139a-41c6-8fe9-c1f81025a36d"
      },
      "execution_count": null,
      "outputs": [
        {
          "output_type": "stream",
          "name": "stdout",
          "text": [
            "\u001b[1m1/1\u001b[0m \u001b[32m━━━━━━━━━━━━━━━━━━━━\u001b[0m\u001b[37m\u001b[0m \u001b[1m0s\u001b[0m 104ms/step\n"
          ]
        }
      ]
    },
    {
      "cell_type": "code",
      "source": [
        "import pandas as pd\n",
        "\n",
        "# Create a DataFrame for better readability\n",
        "output_df = pd.DataFrame({\n",
        "    \"Plan\": [\"Diet Plan\", \"Workout Plan\"],\n",
        "    \"Calories / Days\": [f\"{predicted_diet} kcal per day\", f\"{predicted_workout} workout days per week\"]\n",
        "})\n",
        "\n",
        "# Display the table\n",
        "print(output_df)\n"
      ],
      "metadata": {
        "colab": {
          "base_uri": "https://localhost:8080/"
        },
        "id": "zvjKBdWvglOb",
        "outputId": "024087c1-8779-47b3-8a3f-4424f6005ecb"
      },
      "execution_count": null,
      "outputs": [
        {
          "output_type": "stream",
          "name": "stdout",
          "text": [
            "           Plan          Calories / Days\n",
            "0     Diet Plan        2509 kcal per day\n",
            "1  Workout Plan  2 workout days per week\n"
          ]
        }
      ]
    },
    {
      "cell_type": "code",
      "source": [
        "import pandas as pd\n",
        "from tabulate import tabulate\n",
        "\n",
        "# Meal Plan Data\n",
        "meal_data = [\n",
        "    [\"Breakfast (8:00 AM)\", \"Oats with nuts & banana\", 350, \"Whole-wheat toast with peanut butter (380 kcal)\"],\n",
        "    [\"\", \"Scrambled egg whites & toast\", 400, \"Boiled eggs with avocado (420 kcal)\"],\n",
        "    [\"\", \"Smoothie (protein, berries, flaxseeds)\", 450, \"Yogurt with granola & fruits (430 kcal)\"],\n",
        "    [\"Mid-Morning Snack (10:30 AM)\", \"Greek yogurt with berries\", 200, \"Cottage cheese with flaxseeds (220 kcal)\"],\n",
        "    [\"\", \"Boiled eggs & almonds\", 250, \"Protein bar (260 kcal)\"],\n",
        "    [\"Lunch (1:00 PM)\", \"Grilled chicken, brown rice & veggies\", 600, \"Tofu stir-fry with brown rice (550 kcal)\"],\n",
        "    [\"\", \"Lentils, quinoa & spinach salad\", 650, \"Chickpea salad with feta (620 kcal)\"],\n",
        "    [\"Evening Snack (4:30 PM)\", \"Handful of mixed nuts\", 200, \"Trail mix with dark chocolate (210 kcal)\"],\n",
        "    [\"\", \"Hummus with carrot & celery sticks\", 180, \"Guacamole with whole-wheat pita (190 kcal)\"],\n",
        "    [\"Dinner (8:00 PM)\", \"Salmon with quinoa & greens\", 500, \"Grilled chicken with sweet potatoes (520 kcal)\"],\n",
        "    [\"\", \"Tofu stir-fry with brown rice\", 550, \"Paneer curry with whole-wheat roti (530 kcal)\"],\n",
        "]\n",
        "\n",
        "# Workout Plan Data\n",
        "workout_data = [\n",
        "    [\"Day 1\", \"Strength Training (Upper Body)\", \"Bench Press\", \"3 sets of 10 reps\", 150, \"Rest 60s\"],\n",
        "    [\"\", \"\", \"Bicep Curls\", \"3 sets of 15 reps\", 100, \"Rest 30s\"],\n",
        "    [\"\", \"\", \"Triceps Dips\", \"3 sets of 12 reps\", 120, \"Rest 45s\"],\n",
        "    [\"Day 2\", \"Cardio\", \"Running\", \"30 minutes\", 400, \"Rest 5 min\"],\n",
        "    [\"\", \"\", \"Jump Rope\", \"20 minutes\", 350, \"Rest 3 min\"],\n",
        "    [\"Day 3\", \"HIIT\", \"Burpees\", \"3 sets of 15 reps\", 200, \"Rest 30s\"],\n",
        "    [\"\", \"\", \"Plank Jacks\", \"3 sets of 20 sec\", 120, \"Rest 30s\"],\n",
        "    [\"Day 4\", \"Gymnastics\", \"Handstands\", \"10 minutes\", 180, \"Rest 1 min\"],\n",
        "    [\"\", \"\", \"Backflips\", \"15 minutes\", 220, \"Rest 2 min\"],\n",
        "    [\"Day 5\", \"Outdoor Sports\", \"Football\", \"40 minutes\", 450, \"Rest 5 min\"],\n",
        "    [\"\", \"\", \"Swimming\", \"30 minutes\", 500, \"Rest 5 min\"],\n",
        "    [\"Day 6\", \"Acrobatics\", \"Trampoline Jumps\", \"20 minutes\", 250, \"Rest 3 min\"],\n",
        "    [\"\", \"\", \"Rope Climbing\", \"10 minutes\", 300, \"Rest 3 min\"],\n",
        "    [\"Day 7\", \"Rest Day\", \"Complete Recovery\", \"-\", \"-\", \"-\"]\n",
        "]\n",
        "\n",
        "# Creating Pandas DataFrames\n",
        "meal_df = pd.DataFrame(meal_data, columns=[\"Time\", \"Meal Item\", \"Calories (kcal)\", \"Alternative\"])\n",
        "workout_df = pd.DataFrame(workout_data, columns=[\"Day\", \"Workout Type\", \"Exercise\", \"Reps/Duration\", \"Calories Burned\", \"Rest Time\"])\n",
        "\n",
        "# Display the tables in tabular format\n",
        "print(\"🛒 **Meal Plan:**\\n\")\n",
        "print(tabulate(meal_df, headers='keys', tablefmt='grid'))\n",
        "\n",
        "print(\"\\n🏋️ **Workout Plan:**\\n\")\n",
        "print(tabulate(workout_df, headers='keys', tablefmt='grid'))\n"
      ],
      "metadata": {
        "colab": {
          "base_uri": "https://localhost:8080/"
        },
        "id": "05DjGYwCgnZ1",
        "outputId": "199c8f19-85c9-4901-db87-a7bc033c56f1"
      },
      "execution_count": null,
      "outputs": [
        {
          "output_type": "stream",
          "name": "stdout",
          "text": [
            "🛒 **Meal Plan:**\n",
            "\n",
            "+----+------------------------------+----------------------------------------+-------------------+-------------------------------------------------+\n",
            "|    | Time                         | Meal Item                              |   Calories (kcal) | Alternative                                     |\n",
            "+====+==============================+========================================+===================+=================================================+\n",
            "|  0 | Breakfast (8:00 AM)          | Oats with nuts & banana                |               350 | Whole-wheat toast with peanut butter (380 kcal) |\n",
            "+----+------------------------------+----------------------------------------+-------------------+-------------------------------------------------+\n",
            "|  1 |                              | Scrambled egg whites & toast           |               400 | Boiled eggs with avocado (420 kcal)             |\n",
            "+----+------------------------------+----------------------------------------+-------------------+-------------------------------------------------+\n",
            "|  2 |                              | Smoothie (protein, berries, flaxseeds) |               450 | Yogurt with granola & fruits (430 kcal)         |\n",
            "+----+------------------------------+----------------------------------------+-------------------+-------------------------------------------------+\n",
            "|  3 | Mid-Morning Snack (10:30 AM) | Greek yogurt with berries              |               200 | Cottage cheese with flaxseeds (220 kcal)        |\n",
            "+----+------------------------------+----------------------------------------+-------------------+-------------------------------------------------+\n",
            "|  4 |                              | Boiled eggs & almonds                  |               250 | Protein bar (260 kcal)                          |\n",
            "+----+------------------------------+----------------------------------------+-------------------+-------------------------------------------------+\n",
            "|  5 | Lunch (1:00 PM)              | Grilled chicken, brown rice & veggies  |               600 | Tofu stir-fry with brown rice (550 kcal)        |\n",
            "+----+------------------------------+----------------------------------------+-------------------+-------------------------------------------------+\n",
            "|  6 |                              | Lentils, quinoa & spinach salad        |               650 | Chickpea salad with feta (620 kcal)             |\n",
            "+----+------------------------------+----------------------------------------+-------------------+-------------------------------------------------+\n",
            "|  7 | Evening Snack (4:30 PM)      | Handful of mixed nuts                  |               200 | Trail mix with dark chocolate (210 kcal)        |\n",
            "+----+------------------------------+----------------------------------------+-------------------+-------------------------------------------------+\n",
            "|  8 |                              | Hummus with carrot & celery sticks     |               180 | Guacamole with whole-wheat pita (190 kcal)      |\n",
            "+----+------------------------------+----------------------------------------+-------------------+-------------------------------------------------+\n",
            "|  9 | Dinner (8:00 PM)             | Salmon with quinoa & greens            |               500 | Grilled chicken with sweet potatoes (520 kcal)  |\n",
            "+----+------------------------------+----------------------------------------+-------------------+-------------------------------------------------+\n",
            "| 10 |                              | Tofu stir-fry with brown rice          |               550 | Paneer curry with whole-wheat roti (530 kcal)   |\n",
            "+----+------------------------------+----------------------------------------+-------------------+-------------------------------------------------+\n",
            "\n",
            "🏋️ **Workout Plan:**\n",
            "\n",
            "+----+-------+--------------------------------+-------------------+-------------------+-------------------+-------------+\n",
            "|    | Day   | Workout Type                   | Exercise          | Reps/Duration     | Calories Burned   | Rest Time   |\n",
            "+====+=======+================================+===================+===================+===================+=============+\n",
            "|  0 | Day 1 | Strength Training (Upper Body) | Bench Press       | 3 sets of 10 reps | 150               | Rest 60s    |\n",
            "+----+-------+--------------------------------+-------------------+-------------------+-------------------+-------------+\n",
            "|  1 |       |                                | Bicep Curls       | 3 sets of 15 reps | 100               | Rest 30s    |\n",
            "+----+-------+--------------------------------+-------------------+-------------------+-------------------+-------------+\n",
            "|  2 |       |                                | Triceps Dips      | 3 sets of 12 reps | 120               | Rest 45s    |\n",
            "+----+-------+--------------------------------+-------------------+-------------------+-------------------+-------------+\n",
            "|  3 | Day 2 | Cardio                         | Running           | 30 minutes        | 400               | Rest 5 min  |\n",
            "+----+-------+--------------------------------+-------------------+-------------------+-------------------+-------------+\n",
            "|  4 |       |                                | Jump Rope         | 20 minutes        | 350               | Rest 3 min  |\n",
            "+----+-------+--------------------------------+-------------------+-------------------+-------------------+-------------+\n",
            "|  5 | Day 3 | HIIT                           | Burpees           | 3 sets of 15 reps | 200               | Rest 30s    |\n",
            "+----+-------+--------------------------------+-------------------+-------------------+-------------------+-------------+\n",
            "|  6 |       |                                | Plank Jacks       | 3 sets of 20 sec  | 120               | Rest 30s    |\n",
            "+----+-------+--------------------------------+-------------------+-------------------+-------------------+-------------+\n",
            "|  7 | Day 4 | Gymnastics                     | Handstands        | 10 minutes        | 180               | Rest 1 min  |\n",
            "+----+-------+--------------------------------+-------------------+-------------------+-------------------+-------------+\n",
            "|  8 |       |                                | Backflips         | 15 minutes        | 220               | Rest 2 min  |\n",
            "+----+-------+--------------------------------+-------------------+-------------------+-------------------+-------------+\n",
            "|  9 | Day 5 | Outdoor Sports                 | Football          | 40 minutes        | 450               | Rest 5 min  |\n",
            "+----+-------+--------------------------------+-------------------+-------------------+-------------------+-------------+\n",
            "| 10 |       |                                | Swimming          | 30 minutes        | 500               | Rest 5 min  |\n",
            "+----+-------+--------------------------------+-------------------+-------------------+-------------------+-------------+\n",
            "| 11 | Day 6 | Acrobatics                     | Trampoline Jumps  | 20 minutes        | 250               | Rest 3 min  |\n",
            "+----+-------+--------------------------------+-------------------+-------------------+-------------------+-------------+\n",
            "| 12 |       |                                | Rope Climbing     | 10 minutes        | 300               | Rest 3 min  |\n",
            "+----+-------+--------------------------------+-------------------+-------------------+-------------------+-------------+\n",
            "| 13 | Day 7 | Rest Day                       | Complete Recovery | -                 | -                 | -           |\n",
            "+----+-------+--------------------------------+-------------------+-------------------+-------------------+-------------+\n"
          ]
        }
      ]
    },
    {
      "cell_type": "code",
      "source": [
        "# Example input with allergy flag (1 means allergic, 0 means not allergic)\n",
        "sample_input = np.array([[70, 22, 15, 40, 5, 14, 55, 2200, 1]])  # 1 = allergic to nuts\n"
      ],
      "metadata": {
        "id": "4Kitbuaukp_0"
      },
      "execution_count": null,
      "outputs": []
    },
    {
      "cell_type": "code",
      "source": [
        "from prettytable import PrettyTable\n",
        "\n",
        "# Example User Allergies (Modify based on user input)\n",
        "user_allergy = \"nuts\"\n",
        "\n",
        "# Meal Plan with Allergy Consideration\n",
        "meal_plan = PrettyTable()\n",
        "meal_plan.field_names = [\"Meal\", \"Food\", \"Calories\", \"Alternative\", \"Allergy-Safe?\"]\n",
        "\n",
        "meals = [\n",
        "    (\"Breakfast\", \"Oatmeal + Nuts\", \"350 kcal\", \"Whole Wheat Toast\", \"nuts\"),\n",
        "    (\"Lunch\", \"Grilled Chicken + Peanut Sauce\", \"600 kcal\", \"Tofu + Salad\", \"nuts\"),\n",
        "    (\"Dinner\", \"Fish + Almond Quinoa\", \"500 kcal\", \"Lentil Soup + Rice\", \"nuts\"),\n",
        "]\n",
        "\n",
        "for meal in meals:\n",
        "    meal_name, food, cal, alt, allergy = meal\n",
        "    if user_allergy in allergy:\n",
        "        meal_plan.add_row([meal_name, alt, cal, \"-\", \"✅ Safe\"])\n",
        "    else:\n",
        "        meal_plan.add_row([meal_name, food, cal, alt, \"✅ Safe\"])\n",
        "\n",
        "# Display the updated meal plan\n",
        "print(\"\\n🔹 Allergy-Safe Meal Plan:\")\n",
        "print(meal_plan)\n"
      ],
      "metadata": {
        "colab": {
          "base_uri": "https://localhost:8080/"
        },
        "id": "JTy1M5b7lLJb",
        "outputId": "3498f3e8-2ee2-46cd-9787-bc943fc47a85"
      },
      "execution_count": null,
      "outputs": [
        {
          "output_type": "stream",
          "name": "stdout",
          "text": [
            "\n",
            "🔹 Allergy-Safe Meal Plan:\n",
            "+-----------+--------------------+----------+-------------+---------------+\n",
            "|    Meal   |        Food        | Calories | Alternative | Allergy-Safe? |\n",
            "+-----------+--------------------+----------+-------------+---------------+\n",
            "| Breakfast | Whole Wheat Toast  | 350 kcal |      -      |    ✅ Safe    |\n",
            "|   Lunch   |    Tofu + Salad    | 600 kcal |      -      |    ✅ Safe    |\n",
            "|   Dinner  | Lentil Soup + Rice | 500 kcal |      -      |    ✅ Safe    |\n",
            "+-----------+--------------------+----------+-------------+---------------+\n"
          ]
        }
      ]
    },
    {
      "cell_type": "code",
      "source": [
        "# Example input: [weight, bmi, muscle_mass, fat_mass, visceral_fat, protein, age, calories_needed, allergy, preference]\n",
        "sample_input = np.array([[70, 22, 15, 40, 5, 14, 55, 2200, \"nuts\", \"high-protein\"]])\n"
      ],
      "metadata": {
        "id": "ukysfsP9lOGb"
      },
      "execution_count": null,
      "outputs": []
    },
    {
      "cell_type": "code",
      "source": [
        "from prettytable import PrettyTable\n",
        "\n",
        "# Example User Preferences & Allergies\n",
        "user_allergy = \"nuts\"\n",
        "user_preference = \"high-protein\"\n",
        "\n",
        "# Meal Plan with Preferences & Allergies\n",
        "meal_plan = PrettyTable()\n",
        "meal_plan.field_names = [\"Meal\", \"Food\", \"Calories\", \"Alternative\", \"Preference Match?\", \"Allergy-Safe?\"]\n",
        "\n",
        "meals = [\n",
        "    (\"Breakfast\", \"Oatmeal + Nuts\", \"350 kcal\", \"Whole Wheat Toast\", \"✅ High-Protein\", \"nuts\"),\n",
        "    (\"Lunch\", \"Grilled Chicken + Peanut Sauce\", \"600 kcal\", \"Tofu + Salad\", \"✅ High-Protein\", \"nuts\"),\n",
        "    (\"Dinner\", \"Fish + Almond Quinoa\", \"500 kcal\", \"Lentil Soup + Rice\", \"✅ High-Protein\", \"nuts\"),\n",
        "    (\"Snack\", \"Greek Yogurt + Berries\", \"200 kcal\", \"-\", \"✅ High-Protein\", \"None\"),\n",
        "]\n",
        "\n",
        "for meal in meals:\n",
        "    meal_name, food, cal, alt, preference_match, allergy = meal\n",
        "\n",
        "    # Check for allergies\n",
        "    if user_allergy in allergy:\n",
        "        safe_food = alt\n",
        "        allergy_safe = \"✅ Safe\"\n",
        "    else:\n",
        "        safe_food = food\n",
        "        allergy_safe = \"✅ Safe\"\n",
        "\n",
        "    # Check if preference matches\n",
        "    preference_match = \"✅\" if user_preference in preference_match else \"❌\"\n",
        "\n",
        "    meal_plan.add_row([meal_name, safe_food, cal, alt, preference_match, allergy_safe])\n",
        "\n",
        "# Display the updated meal plan\n",
        "print(\"\\n🔹 Personalized Meal Plan (Considering Allergies & Preferences):\")\n",
        "print(meal_plan)\n"
      ],
      "metadata": {
        "colab": {
          "base_uri": "https://localhost:8080/"
        },
        "id": "jGOAwQPWgopV",
        "outputId": "2a8ccbbc-2b78-4ab8-a2ac-4b3dbfb2c775"
      },
      "execution_count": null,
      "outputs": [
        {
          "output_type": "stream",
          "name": "stdout",
          "text": [
            "\n",
            "🔹 Personalized Meal Plan (Considering Allergies & Preferences):\n",
            "+-----------+------------------------+----------+--------------------+-------------------+---------------+\n",
            "|    Meal   |          Food          | Calories |    Alternative     | Preference Match? | Allergy-Safe? |\n",
            "+-----------+------------------------+----------+--------------------+-------------------+---------------+\n",
            "| Breakfast |   Whole Wheat Toast    | 350 kcal | Whole Wheat Toast  |         ❌        |    ✅ Safe    |\n",
            "|   Lunch   |      Tofu + Salad      | 600 kcal |    Tofu + Salad    |         ❌        |    ✅ Safe    |\n",
            "|   Dinner  |   Lentil Soup + Rice   | 500 kcal | Lentil Soup + Rice |         ❌        |    ✅ Safe    |\n",
            "|   Snack   | Greek Yogurt + Berries | 200 kcal |         -          |         ❌        |    ✅ Safe    |\n",
            "+-----------+------------------------+----------+--------------------+-------------------+---------------+\n"
          ]
        }
      ]
    },
    {
      "cell_type": "code",
      "source": [
        "# Example User Goal\n",
        "user_goal = \"muscle-gain\"\n",
        "\n",
        "workout_plan = PrettyTable()\n",
        "workout_plan.field_names = [\"Exercise\", \"Type\", \"Duration\", \"Calories Burned\"]\n",
        "\n",
        "workouts = [\n",
        "    (\"Bench Press\", \"Strength\", \"4 sets x 8 reps\", \"250 kcal\"),\n",
        "    (\"Deadlifts\", \"Strength\", \"4 sets x 6 reps\", \"300 kcal\"),\n",
        "    (\"Cycling\", \"Cardio\", \"30 mins\", \"400 kcal\"),\n",
        "    (\"Jump Rope\", \"Cardio\", \"15 mins\", \"150 kcal\"),\n",
        "]\n",
        "\n",
        "for workout in workouts:\n",
        "    exercise, type_, duration, cal = workout\n",
        "\n",
        "    if user_goal == \"muscle-gain\" and type_ == \"Strength\":\n",
        "        workout_plan.add_row([exercise, type_, duration, cal])\n",
        "    elif user_goal == \"weight-loss\" and type_ == \"Cardio\":\n",
        "        workout_plan.add_row([exercise, type_, duration, cal])\n",
        "    elif user_goal == \"general-fitness\":\n",
        "        workout_plan.add_row([exercise, type_, duration, cal])\n",
        "\n",
        "print(\"\\n🔹 Personalized Workout Plan:\")\n",
        "print(workout_plan)\n"
      ],
      "metadata": {
        "colab": {
          "base_uri": "https://localhost:8080/"
        },
        "id": "EDc25UHPhJ6w",
        "outputId": "8f70ac7e-0e7f-4dff-b52d-7739ff117149"
      },
      "execution_count": null,
      "outputs": [
        {
          "output_type": "stream",
          "name": "stdout",
          "text": [
            "\n",
            "🔹 Personalized Workout Plan:\n",
            "+-------------+----------+-----------------+-----------------+\n",
            "|   Exercise  |   Type   |     Duration    | Calories Burned |\n",
            "+-------------+----------+-----------------+-----------------+\n",
            "| Bench Press | Strength | 4 sets x 8 reps |     250 kcal    |\n",
            "|  Deadlifts  | Strength | 4 sets x 6 reps |     300 kcal    |\n",
            "+-------------+----------+-----------------+-----------------+\n"
          ]
        }
      ]
    },
    {
      "cell_type": "code",
      "source": [
        "import sqlite3\n",
        "\n",
        "# Connect to SQLite database (or create one if it doesn’t exist)\n",
        "conn = sqlite3.connect(\"user_feedback.db\")\n",
        "cursor = conn.cursor()\n",
        "\n",
        "# Create table to store feedback\n",
        "cursor.execute('''\n",
        "CREATE TABLE IF NOT EXISTS feedback (\n",
        "    user_id INTEGER,\n",
        "    meal TEXT,\n",
        "    satisfaction INTEGER,\n",
        "    skipped INTEGER,\n",
        "    fullness INTEGER\n",
        ")\n",
        "''')\n",
        "\n",
        "conn.commit()\n",
        "conn.close()\n"
      ],
      "metadata": {
        "id": "gnuVbW9rhODv"
      },
      "execution_count": null,
      "outputs": []
    },
    {
      "cell_type": "code",
      "source": [
        "# Function to Adjust Meal Plan\n",
        "def adjust_meal_plan(user_id):\n",
        "    conn = sqlite3.connect(\"user_feedback.db\")\n",
        "    cursor = conn.cursor()\n",
        "\n",
        "    # Get feedback from the user\n",
        "    cursor.execute(\"SELECT meal, satisfaction, skipped, fullness FROM feedback WHERE user_id = ?\", (user_id,))\n",
        "    feedback_data = cursor.fetchall()\n",
        "\n",
        "    adjusted_meals = []\n",
        "\n",
        "    for meal, satisfaction, skipped, fullness in feedback_data:\n",
        "        if skipped == 1:\n",
        "            new_meal = \"Alternate Meal\"\n",
        "        elif fullness < 3:\n",
        "            new_meal = meal + \" + Extra Portion\"\n",
        "        else:\n",
        "            new_meal = meal\n",
        "\n",
        "        adjusted_meals.append(new_meal)\n",
        "\n",
        "    conn.close()\n",
        "    return adjusted_meals\n",
        "\n",
        "# Example: Get new meal plan after user feedback\n",
        "user_id = 101\n",
        "new_meal_plan = adjust_meal_plan(user_id)\n",
        "print(\"Updated Meal Plan:\", new_meal_plan)\n"
      ],
      "metadata": {
        "colab": {
          "base_uri": "https://localhost:8080/"
        },
        "id": "KW-wOLYziAoy",
        "outputId": "8cdc0479-d3a5-439b-c7fc-d232b38379e3"
      },
      "execution_count": null,
      "outputs": [
        {
          "output_type": "stream",
          "name": "stdout",
          "text": [
            "Updated Meal Plan: []\n"
          ]
        }
      ]
    },
    {
      "cell_type": "code",
      "source": [
        "import pandas as pd\n",
        "\n",
        "# Sample feedback data from users\n",
        "feedback_data = {\n",
        "    \"user_id\": [101, 102, 103],\n",
        "    \"meal\": [\"Oatmeal with Almonds\", \"Grilled Chicken\", \"Salmon Salad\"],\n",
        "    \"satisfaction\": [2, 5, 3],   # 1 (Disliked) → 5 (Loved)\n",
        "    \"skipped\": [1, 0, 0],        # 1 = Skipped, 0 = Ate\n",
        "    \"fullness\": [2, 4, 3],       # 1 (Still Hungry) → 5 (Full)\n",
        "    \"workout\": [\"HIIT\", \"Weightlifting\", \"Cycling\"],\n",
        "    \"workout_difficulty\": [4, 3, 5]  # 1 (Too Easy) → 5 (Too Hard)\n",
        "}\n",
        "\n",
        "# Convert to DataFrame\n",
        "df = pd.DataFrame(feedback_data)\n",
        "\n",
        "# Function to adjust meal plan\n",
        "def adjust_meal_plan(df):\n",
        "    adjusted_meals = []\n",
        "    adjusted_workouts = []\n",
        "\n",
        "    for _, row in df.iterrows():\n",
        "        meal = row[\"meal\"]\n",
        "        workout = row[\"workout\"]\n",
        "\n",
        "        # Adjust meal plan\n",
        "        if row[\"skipped\"] == 1:\n",
        "            new_meal = \"Alternative Meal\"\n",
        "        elif row[\"fullness\"] < 3:\n",
        "            new_meal = meal + \" + Extra Portion\"\n",
        "        else:\n",
        "            new_meal = meal\n",
        "\n",
        "        adjusted_meals.append(new_meal)\n",
        "\n",
        "        # Adjust workout plan\n",
        "        if row[\"workout_difficulty\"] > 4:\n",
        "            new_workout = workout + \" (Lower Intensity)\"\n",
        "        elif row[\"workout_difficulty\"] < 2:\n",
        "            new_workout = workout + \" (Higher Intensity)\"\n",
        "        else:\n",
        "            new_workout = workout\n",
        "\n",
        "        adjusted_workouts.append(new_workout)\n",
        "\n",
        "    df[\"adjusted_meal\"] = adjusted_meals\n",
        "    df[\"adjusted_workout\"] = adjusted_workouts\n",
        "    return df\n",
        "\n",
        "# Generate the adjusted plan\n",
        "adjusted_df = adjust_meal_plan(df)\n",
        "print(adjusted_df)\n"
      ],
      "metadata": {
        "colab": {
          "base_uri": "https://localhost:8080/"
        },
        "id": "PQ1zvib-iCup",
        "outputId": "0fdabc68-4f57-4caf-a04c-73f80b51259c"
      },
      "execution_count": null,
      "outputs": [
        {
          "output_type": "stream",
          "name": "stdout",
          "text": [
            "   user_id                  meal  satisfaction  skipped  fullness  \\\n",
            "0      101  Oatmeal with Almonds             2        1         2   \n",
            "1      102       Grilled Chicken             5        0         4   \n",
            "2      103          Salmon Salad             3        0         3   \n",
            "\n",
            "         workout  workout_difficulty     adjusted_meal  \\\n",
            "0           HIIT                   4  Alternative Meal   \n",
            "1  Weightlifting                   3   Grilled Chicken   \n",
            "2        Cycling                   5      Salmon Salad   \n",
            "\n",
            "            adjusted_workout  \n",
            "0                       HIIT  \n",
            "1              Weightlifting  \n",
            "2  Cycling (Lower Intensity)  \n"
          ]
        }
      ]
    },
    {
      "cell_type": "code",
      "source": [
        "import pandas as pd\n",
        "\n",
        "# Sample User Data with Preferences & Allergies\n",
        "user_data = {\n",
        "    \"user_id\": [101, 102, 103],\n",
        "    \"diet_type\": [\"Vegan\", \"Keto\", \"Vegetarian\"],\n",
        "    \"allergies\": [[\"Nuts\", \"Dairy\"], [\"Gluten\"], [\"Soy\"]],\n",
        "    \"workout_preference\": [\"Outdoor\", \"Gym\", \"Home\"]\n",
        "}\n",
        "\n",
        "# Sample Meal Plan\n",
        "meal_plan = {\n",
        "    \"meal\": [\"Oatmeal with Almonds\", \"Grilled Chicken\", \"Salmon Salad\"],\n",
        "    \"ingredients\": [[\"Oats\", \"Almonds\", \"Milk\"], [\"Chicken\", \"Butter\", \"Spices\"], [\"Salmon\", \"Soy Sauce\", \"Lettuce\"]],\n",
        "    \"calories\": [300, 450, 400]\n",
        "}\n",
        "\n",
        "# Sample Workout Plan\n",
        "workout_plan = {\n",
        "    \"workout\": [\"Cycling\", \"Weightlifting\", \"Yoga\"],\n",
        "    \"calories_burned\": [250, 400, 200]\n",
        "}\n",
        "\n",
        "# Convert to DataFrame\n",
        "users_df = pd.DataFrame(user_data)\n",
        "meals_df = pd.DataFrame(meal_plan)\n",
        "workouts_df = pd.DataFrame(workout_plan)\n",
        "\n",
        "# Function to adjust meals based on user preferences\n",
        "def adjust_meals(users_df, meals_df):\n",
        "    adjusted_meals = []\n",
        "\n",
        "    for _, user in users_df.iterrows():\n",
        "        user_meals = []\n",
        "\n",
        "        for i, row in meals_df.iterrows():\n",
        "            meal_name = row[\"meal\"]\n",
        "            meal_ingredients = row[\"ingredients\"]\n",
        "            adjusted_meal = meal_name\n",
        "\n",
        "            # Remove allergens\n",
        "            for allergen in user[\"allergies\"]:\n",
        "                if allergen in meal_ingredients:\n",
        "                    adjusted_meal = \"Alternative Meal (No \" + allergen + \")\"\n",
        "\n",
        "            # Adjust for\n"
      ],
      "metadata": {
        "id": "54dAjU9kiUcf"
      },
      "execution_count": null,
      "outputs": []
    },
    {
      "cell_type": "code",
      "source": [
        "import random\n",
        "\n",
        "# Food database with alternatives (for different diets & allergens)\n",
        "food_db = {\n",
        "    \"Oats\": {\"vegan\": \"Quinoa\", \"keto\": \"Scrambled Eggs\", \"calories\": 150},\n",
        "    \"Almonds\": {\"vegan\": \"Pumpkin Seeds\", \"keto\": \"Walnuts\", \"calories\": 200},\n",
        "    \"Milk\": {\"vegan\": \"Almond Milk\", \"keto\": \"Coconut Milk\", \"calories\": 100},\n",
        "    \"Chicken\": {\"vegan\": \"Tofu\", \"keto\": \"Salmon\", \"calories\": 250},\n",
        "    \"Salmon\": {\"vegan\": \"Chickpeas\", \"keto\": \"Steak\", \"calories\": 300},\n",
        "    \"Rice\": {\"vegan\": \"Brown Rice\", \"keto\": \"Cauliflower Rice\", \"calories\": 200},\n",
        "}\n",
        "\n",
        "# Function to find alternatives\n",
        "def find_alternative(food, diet):\n",
        "    if food in food_db:\n",
        "        return food_db[food].get(diet, food)  # Get diet-specific alternative\n",
        "    return food  # Default to same food\n",
        "\n",
        "# Function to generate AI-optimized meal plan\n",
        "def generate_meal_plan(user):\n",
        "    meals = [\"Breakfast\", \"Lunch\", \"Dinner\"]\n",
        "    optimized_plan = []\n",
        "\n",
        "    for meal in meals:\n",
        "        original_food = random.choice(list(food_db.keys()))  # Select random food\n",
        "        alternative = find_alternative(original_food, user[\"diet_type\"].lower())\n",
        "\n",
        "        optimized_plan.append({\n",
        "            \"Meal\": meal,\n",
        "            \"Original Food\": original_food,\n",
        "            \"Alternative\": alternative,\n",
        "            \"Calories\": food_db[original_food][\"calories\"]\n",
        "        })\n",
        "\n",
        "    return optimized_plan\n",
        "\n",
        "# Example user\n",
        "user_1 = {\"diet_type\": \"Vegan\", \"allergies\": [\"Dairy\", \"Nuts\"]}\n",
        "\n",
        "# Generate optimized meal plan\n",
        "meal_plan = generate_meal_plan(user_1)\n",
        "\n",
        "# Display\n",
        "import pandas as pd\n",
        "df_meal = pd.DataFrame(meal_plan)\n",
        "print(df_meal)\n"
      ],
      "metadata": {
        "colab": {
          "base_uri": "https://localhost:8080/"
        },
        "id": "X0N65Rxvii_m",
        "outputId": "095e8e70-3850-4648-f9ce-0a5a9bc57efd"
      },
      "execution_count": null,
      "outputs": [
        {
          "output_type": "stream",
          "name": "stdout",
          "text": [
            "        Meal Original Food    Alternative  Calories\n",
            "0  Breakfast          Rice     Brown Rice       200\n",
            "1      Lunch       Almonds  Pumpkin Seeds       200\n",
            "2     Dinner          Rice     Brown Rice       200\n"
          ]
        }
      ]
    },
    {
      "cell_type": "code",
      "source": [
        "# Workout database\n",
        "workout_db = {\n",
        "    \"Gym\": [\n",
        "        {\"Workout\": \"Weightlifting\", \"Calories Burned\": 400},\n",
        "        {\"Workout\": \"Treadmill\", \"Calories Burned\": 300}\n",
        "    ],\n",
        "    \"Outdoor\": [\n",
        "        {\"Workout\": \"Cycling\", \"Calories Burned\": 250},\n",
        "        {\"Workout\": \"Running\", \"Calories Burned\": 350}\n",
        "    ],\n",
        "    \"Home\": [\n",
        "        {\"Workout\": \"Yoga\", \"Calories Burned\": 200},\n",
        "        {\"Workout\": \"Bodyweight Exercises\", \"Calories Burned\": 300}\n",
        "    ]\n",
        "}\n",
        "\n",
        "# Function to generate workout plan\n",
        "def generate_workout_plan(user, goal):\n",
        "    plan = []\n",
        "\n",
        "    # Adjust workout type based on fitness goal\n",
        "    if goal == \"Weight Loss\":\n",
        "        intensity_factor = 1.2  # Burn more calories\n",
        "    elif goal == \"Muscle Gain\":\n",
        "        intensity_factor = 0.9  # Focus more on strength\n",
        "    else:\n",
        "        intensity_factor = 1.0  # Balanced workouts\n",
        "\n",
        "    for workout in workout_db[user[\"workout_preference\"]]:\n",
        "        plan.append({\n",
        "            \"Workout\": workout[\"Workout\"],\n",
        "            \"Calories Burned\": int(workout[\"Calories Burned\"] * intensity_factor),\n",
        "            \"Rest Time (mins)\": 45 if \"Weightlifting\" in workout[\"Workout\"] else 30\n",
        "        })\n",
        "\n",
        "    return plan\n",
        "\n",
        "# Example user and goal\n",
        "user_1[\"workout_preference\"] = \"Gym\"\n",
        "fitness_goal = \"Weight Loss\"\n",
        "\n",
        "# Generate workout plan\n",
        "workout_plan = generate_workout_plan(user_1, fitness_goal)\n",
        "\n",
        "# Display\n",
        "df_workout = pd.DataFrame(workout_plan)\n",
        "print(df_workout)\n"
      ],
      "metadata": {
        "colab": {
          "base_uri": "https://localhost:8080/"
        },
        "id": "TAvHmfBlix5G",
        "outputId": "f0c07169-8e5c-499a-856d-440fdf696bcf"
      },
      "execution_count": null,
      "outputs": [
        {
          "output_type": "stream",
          "name": "stdout",
          "text": [
            "         Workout  Calories Burned  Rest Time (mins)\n",
            "0  Weightlifting              480                45\n",
            "1      Treadmill              360                30\n"
          ]
        }
      ]
    },
    {
      "cell_type": "code",
      "source": [
        "import random\n",
        "\n",
        "# Function to generate synthetic user health data\n",
        "def generate_user_data():\n",
        "    return {\n",
        "        \"Weight (kg)\": round(random.uniform(50, 100), 1),\n",
        "        \"BMI\": round(random.uniform(18, 30), 1),\n",
        "        \"Body Fat (%)\": round(random.uniform(10, 30), 1),\n",
        "        \"Muscle Mass (kg)\": round(random.uniform(40, 80), 1),\n",
        "        \"Metabolism (kcal/day)\": round(random.uniform(1400, 2200), 1),\n",
        "        \"Hydration (%)\": round(random.uniform(45, 65), 1),\n",
        "        \"Visceral Fat\": round(random.uniform(1, 15), 1),\n",
        "        \"Bone Mass (kg)\": round(random.uniform(2.5, 4.5), 1),\n",
        "    }\n",
        "\n",
        "# Generate synthetic data\n",
        "user_health_data = generate_user_data()\n",
        "\n",
        "# Display\n",
        "import pandas as pd\n",
        "df_health = pd.DataFrame([user_health_data])\n",
        "print(df_health)\n"
      ],
      "metadata": {
        "colab": {
          "base_uri": "https://localhost:8080/"
        },
        "id": "8eeoJhDRi2uu",
        "outputId": "2c7781c9-625b-4e00-fcbe-3e5ccb66e71b"
      },
      "execution_count": null,
      "outputs": [
        {
          "output_type": "stream",
          "name": "stdout",
          "text": [
            "   Weight (kg)   BMI  Body Fat (%)  Muscle Mass (kg)  Metabolism (kcal/day)  \\\n",
            "0         61.3  19.9          23.8              74.5                 2019.9   \n",
            "\n",
            "   Hydration (%)  Visceral Fat  Bone Mass (kg)  \n",
            "0           51.1           4.3             3.5  \n"
          ]
        }
      ]
    },
    {
      "cell_type": "code",
      "source": [
        "# User input\n",
        "user_preferences = {\n",
        "    \"diet_type\": \"Keto\",  # Options: Vegan, Vegetarian, Keto, Regular\n",
        "    \"allergies\": [\"Dairy\", \"Nuts\"]  # Allergens to avoid\n",
        "}\n"
      ],
      "metadata": {
        "id": "ekUvZwQIjSyW"
      },
      "execution_count": null,
      "outputs": []
    },
    {
      "cell_type": "code",
      "source": [
        "# Workout database\n",
        "workout_db = [\n",
        "    [\"Weightlifting\", \"Squats\", \"3 sets of 10 reps\", 30, 250],\n",
        "    [\"Cardio\", \"Treadmill\", \"30 mins\", 30, 360],\n",
        "    [\"Gymnastics\", \"Handstands\", \"3 sets of 15 sec hold\", 20, 100],\n",
        "    [\"Outdoor Sport\", \"Basketball\", \"40 mins\", 60, 450]\n",
        "]\n",
        "\n",
        "# Convert to DataFrame\n",
        "df_workout = pd.DataFrame(workout_db, columns=[\"Category\", \"Exercise\", \"Reps/Sets\", \"Rest Time (min)\", \"Calories Burned\"])\n",
        "print(tabulate(df_workout, headers='keys', tablefmt='grid'))\n"
      ],
      "metadata": {
        "colab": {
          "base_uri": "https://localhost:8080/"
        },
        "id": "UYmwTkvZj6dc",
        "outputId": "ff4623e6-7630-4cd5-da60-44e2f71a2325"
      },
      "execution_count": null,
      "outputs": [
        {
          "output_type": "stream",
          "name": "stdout",
          "text": [
            "+----+---------------+------------+-----------------------+-------------------+-------------------+\n",
            "|    | Category      | Exercise   | Reps/Sets             |   Rest Time (min) |   Calories Burned |\n",
            "+====+===============+============+=======================+===================+===================+\n",
            "|  0 | Weightlifting | Squats     | 3 sets of 10 reps     |                30 |               250 |\n",
            "+----+---------------+------------+-----------------------+-------------------+-------------------+\n",
            "|  1 | Cardio        | Treadmill  | 30 mins               |                30 |               360 |\n",
            "+----+---------------+------------+-----------------------+-------------------+-------------------+\n",
            "|  2 | Gymnastics    | Handstands | 3 sets of 15 sec hold |                20 |               100 |\n",
            "+----+---------------+------------+-----------------------+-------------------+-------------------+\n",
            "|  3 | Outdoor Sport | Basketball | 40 mins               |                60 |               450 |\n",
            "+----+---------------+------------+-----------------------+-------------------+-------------------+\n"
          ]
        }
      ]
    },
    {
      "cell_type": "code",
      "source": [],
      "metadata": {
        "id": "X0zppzBykBLN"
      },
      "execution_count": null,
      "outputs": []
    }
  ]
}